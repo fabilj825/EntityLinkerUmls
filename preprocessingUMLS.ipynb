{
  "cells": [
    {
      "cell_type": "markdown",
      "metadata": {
        "id": "view-in-github",
        "colab_type": "text"
      },
      "source": [
        "<a href=\"https://colab.research.google.com/github/fabilj825/EntityLinkerUmls/blob/main/preprocessingUMLS.ipynb\" target=\"_parent\"><img src=\"https://colab.research.google.com/assets/colab-badge.svg\" alt=\"Open In Colab\"/></a>"
      ]
    },
    {
      "cell_type": "code",
      "execution_count": 76,
      "id": "abf557fd-e5d5-4c87-84f1-23b1070d487b",
      "metadata": {
        "id": "abf557fd-e5d5-4c87-84f1-23b1070d487b",
        "colab": {
          "base_uri": "https://localhost:8080/"
        },
        "outputId": "ae906868-9d2e-4fa5-f24e-6ec483a2adcb"
      },
      "outputs": [
        {
          "output_type": "stream",
          "name": "stdout",
          "text": [
            "Drive already mounted at /content/drive; to attempt to forcibly remount, call drive.mount(\"/content/drive\", force_remount=True).\n"
          ]
        }
      ],
      "source": [
        "from tqdm.auto import tqdm\n",
        "from pathlib import Path\n",
        "import pandas as pd\n",
        "import os\n",
        "\n",
        "from google.colab import drive\n",
        "drive.mount('/content/drive')\n",
        "\n",
        "gdrive_base_address = \"drive/MyDrive/UMLS/\""
      ]
    },
    {
      "cell_type": "code",
      "execution_count": 67,
      "id": "bbe693fb-811a-4be7-9fdb-3120761f517b",
      "metadata": {
        "id": "bbe693fb-811a-4be7-9fdb-3120761f517b",
        "outputId": "1def4f5d-0c23-497d-edcf-6d650e3e5b87",
        "colab": {
          "base_uri": "https://localhost:8080/"
        }
      },
      "outputs": [
        {
          "output_type": "stream",
          "name": "stdout",
          "text": [
            "drive/MyDrive/UMLS/MRCONSO.RRF\n"
          ]
        }
      ],
      "source": [
        "MRCONSO_path = gdrive_base_address + \"MRCONSO.RRF\"\n",
        "print(MRCONSO_path)"
      ]
    },
    {
      "cell_type": "code",
      "execution_count": 68,
      "id": "6704fb7e-4912-463c-b5c4-f71737a87faf",
      "metadata": {
        "id": "6704fb7e-4912-463c-b5c4-f71737a87faf",
        "outputId": "c62ec712-6fc0-4043-d58c-90efc01b9d88",
        "colab": {
          "base_uri": "https://localhost:8080/"
        }
      },
      "outputs": [
        {
          "output_type": "stream",
          "name": "stdout",
          "text": [
            "13617333\n"
          ]
        }
      ],
      "source": [
        "with open(MRCONSO_path, \"r\", encoding=\"utf-8\") as f:\n",
        "    lines = f.readlines()\n",
        "print (len(lines))"
      ]
    },
    {
      "cell_type": "code",
      "execution_count": 41,
      "id": "79c019a3-08d6-431f-a9b1-0acd27234fd5",
      "metadata": {
        "id": "79c019a3-08d6-431f-a9b1-0acd27234fd5",
        "outputId": "8ea89e69-4da3-4f48-873c-fef6d71c959a",
        "colab": {
          "referenced_widgets": [
            "2ee8fb58a7a74075a1fc11197694346d",
            "529150c2533849eabb5c25db4ae7023d",
            "fe48c2fdcf7641d2bc11e376235fe16d",
            "e6abff799a7d4e338955bbcc6df6bcca",
            "8b27a93dda9d4c3c9883ac62f37520c1",
            "c493ea2dae864c50a5b1d9b1fdcfe5bd",
            "b0db3bdf477e4f94a9ff462a7df7158d",
            "c1437d5ef8c5452ba64c221c0baeb393",
            "2e0c0ef0b6c74ff788f5c20d8068d7a0",
            "81f584072e3b45e1b1d0da28ea3b51c2",
            "ce3e22388c2d4146b8e86e10f7af1053"
          ],
          "base_uri": "https://localhost:8080/",
          "height": 66
        }
      },
      "outputs": [
        {
          "output_type": "display_data",
          "data": {
            "text/plain": [
              "  0%|          | 0/13617333 [00:00<?, ?it/s]"
            ],
            "application/vnd.jupyter.widget-view+json": {
              "version_major": 2,
              "version_minor": 0,
              "model_id": "2ee8fb58a7a74075a1fc11197694346d"
            }
          },
          "metadata": {}
        },
        {
          "output_type": "stream",
          "name": "stdout",
          "text": [
            "13617333\n"
          ]
        }
      ],
      "source": [
        "cleaned = []\n",
        "count = 0\n",
        "for l in tqdm(lines):\n",
        "    lst = l.rstrip(\"\\n\").split(\"|\")\n",
        "    cui, synonym = lst[0], lst[14]\n",
        "\n",
        "    cleaned.append([cui,synonym])\n",
        "print (len(cleaned))\n",
        "\n"
      ]
    },
    {
      "cell_type": "code",
      "execution_count": 42,
      "id": "31596537-8e2b-40fb-84ae-92fdd4ba2973",
      "metadata": {
        "id": "31596537-8e2b-40fb-84ae-92fdd4ba2973"
      },
      "outputs": [],
      "source": [
        "df = pd.DataFrame(cleaned)"
      ]
    },
    {
      "cell_type": "code",
      "execution_count": 43,
      "id": "c7627c49-74c3-4d29-8e08-209e4156013c",
      "metadata": {
        "id": "c7627c49-74c3-4d29-8e08-209e4156013c",
        "outputId": "05a0c57a-88e3-46f3-ee71-9662d324e86d",
        "colab": {
          "base_uri": "https://localhost:8080/"
        }
      },
      "outputs": [
        {
          "output_type": "stream",
          "name": "stdout",
          "text": [
            "           0                                                  1\n",
            "20  C0000039                     Dipalmitoylphosphatidylcholine\n",
            "21  C0000039                     Dipalmitoylphosphatidylcholine\n",
            "22  C0000039                     Dipalmitoylphosphatidylcholine\n",
            "23  C0000039                   Dipalmitoylglycerophosphocholine\n",
            "24  C0000039                                Dipalmitoyllecithin\n",
            "25  C0000039  3,5,9-Trioxa-4-phosphapentacosan-1-aminium, 4-...\n",
            "26  C0000039                    Dipalmitoyl Phosphatidylcholine\n",
            "27  C0000039                   Phosphatidylcholine, Dipalmitoyl\n",
            "28  C0000039                1,2-dipalmitoylifosfatidyylikoliini\n",
            "29  C0000039                 1,2-Dipalmitoylphosphatidylcholine\n"
          ]
        }
      ],
      "source": [
        "print(df[20:30])"
      ]
    },
    {
      "cell_type": "code",
      "execution_count": 46,
      "id": "54b5580e-bf43-446a-84eb-678d92cb0acb",
      "metadata": {
        "id": "54b5580e-bf43-446a-84eb-678d92cb0acb"
      },
      "outputs": [],
      "source": [
        "MRDEF_path=Path.cwd().parent / + gdrive_base_address + \"MRDEF.RRF\"\n"
      ]
    },
    {
      "cell_type": "code",
      "execution_count": 47,
      "id": "cc98b736-aab9-4690-98a2-5af667844f41",
      "metadata": {
        "id": "cc98b736-aab9-4690-98a2-5af667844f41",
        "outputId": "656d722d-030b-4bf3-fe43-d2b50aef8c7e",
        "colab": {
          "base_uri": "https://localhost:8080/"
        }
      },
      "outputs": [
        {
          "output_type": "stream",
          "name": "stdout",
          "text": [
            "430839\n"
          ]
        }
      ],
      "source": [
        "with open(MRDEF_path, \"r\") as f:\n",
        "    lines = f.readlines()\n",
        "print (len(lines))"
      ]
    },
    {
      "cell_type": "code",
      "execution_count": 48,
      "id": "233a1d66-8ccc-43a9-b1f4-d11ccb1f20cb",
      "metadata": {
        "id": "233a1d66-8ccc-43a9-b1f4-d11ccb1f20cb",
        "outputId": "0bc1398f-06d3-4786-838a-7c3244c4f8da",
        "colab": {
          "referenced_widgets": [
            "057d69d1bd34445484e3ca1f913b6b1a",
            "372b79dab0ff42019fbe420c02749dcf",
            "51fb82f1ea0448ee9a65e2e56e594b3e",
            "5403ca4740e141968e3a63a27b5560ab",
            "7d1a78bfbadf498592f19bd73439fb3f",
            "8e1aa56d0d3e42a28716b693f39b4dc3",
            "6d663a9416684716bfd53fef5773d233",
            "5c1fdf83528c4ddb86eb020e6b9d4598",
            "bbfdd7a26ac44a379019aa12698ca899",
            "4e5fa11db23a44208fdb8efcff567755",
            "e6e32a4c019f4c3b8b8e0df0aef4c3b3"
          ],
          "base_uri": "https://localhost:8080/",
          "height": 66
        }
      },
      "outputs": [
        {
          "output_type": "display_data",
          "data": {
            "text/plain": [
              "  0%|          | 0/430839 [00:00<?, ?it/s]"
            ],
            "application/vnd.jupyter.widget-view+json": {
              "version_major": 2,
              "version_minor": 0,
              "model_id": "057d69d1bd34445484e3ca1f913b6b1a"
            }
          },
          "metadata": {}
        },
        {
          "output_type": "stream",
          "name": "stdout",
          "text": [
            "430839\n"
          ]
        }
      ],
      "source": [
        "cleaned = []\n",
        "count = 0\n",
        "for l in tqdm(lines):\n",
        "    lst = l.rstrip(\"\\n\").split(\"|\")\n",
        "    cui, definition = lst[0], lst[5]\n",
        "\n",
        "    cleaned.append([cui,definition])\n",
        "print (len(cleaned))\n",
        "\n"
      ]
    },
    {
      "cell_type": "code",
      "execution_count": 49,
      "id": "e3f78dc1-7b10-4cc7-a5ca-fb9db9167dd8",
      "metadata": {
        "id": "e3f78dc1-7b10-4cc7-a5ca-fb9db9167dd8"
      },
      "outputs": [],
      "source": [
        "df2 = pd.DataFrame(cleaned)"
      ]
    },
    {
      "cell_type": "code",
      "execution_count": 50,
      "id": "756f25f8-06b0-4dbb-b2a7-b0bd235fb729",
      "metadata": {
        "id": "756f25f8-06b0-4dbb-b2a7-b0bd235fb729",
        "outputId": "535afcb8-e045-4a85-9a20-56fcfda47428",
        "colab": {
          "base_uri": "https://localhost:8080/"
        }
      },
      "outputs": [
        {
          "output_type": "stream",
          "name": "stdout",
          "text": [
            "           0                                                  1\n",
            "80  C0000173  Analog desoxykortikosteronu, který je v poloze...\n",
            "81  C0000173  Análogo da desoxicorticosterona que é substitu...\n",
            "82  C0000173  Análogo de la desoxicorticosterona que es reem...\n",
            "83  C0000176  19-Iodocholest-5-en-3 beta-ol. A cholesterol d...\n",
            "84  C0000176  19-jodkolest-5-en-3-beta-ol. Ett kolesterolder...\n",
            "85  C0000176  19-Iodocolest-5-en-3-beta-ol. Derivado do cole...\n",
            "86  C0000176  19-Iodocolest-5-en-3-beta-ol. Derivado del col...\n",
            "87  C0000184  Nucleoside-2',3'-cyclic phosphate nucleotidohy...\n",
            "88  C0000184  Nucleosid-2',3'-cyklisk fosfatnukleotidhydrola...\n",
            "89  C0000184  Nukleosid-2',3'-cyklická fosforečnanová nukleo...\n",
            "90  C0000184  2',3'-Nucleosídeo cíclico fosfato nucleotidioi...\n",
            "91  C0000184  2',3'-Nucleósido cíclico fosfato nucleotidohid...\n",
            "92  C0000189  An enzyme that catalyzes the conversion of ATP...\n",
            "93  C0000189  Ett enzym som katalyserar omvandlingen av ATP ...\n",
            "94  C0000189  Enzym, který katalyzuje přeměnu ATP na řadu (2...\n",
            "95  C0000189  Enzima que catalisa a conversão de ATP a uma s...\n",
            "96  C0000189  Enzima que cataliza la conversión de ATP en un...\n",
            "97  C0000194      A reagent used for the determination of iron.\n",
            "98  C0000194  alfa,alfa-dipyridyl. Används som reagens för b...\n",
            "99  C0000194                      Činidlo pro stanovení železa.\n"
          ]
        }
      ],
      "source": [
        "print(df2[80:100])"
      ]
    },
    {
      "cell_type": "code",
      "execution_count": 51,
      "id": "084dc018-62fe-47d6-bcae-deb577b0768b",
      "metadata": {
        "id": "084dc018-62fe-47d6-bcae-deb577b0768b"
      },
      "outputs": [],
      "source": [
        "cui_list = df2[0].tolist()"
      ]
    },
    {
      "cell_type": "code",
      "execution_count": 52,
      "id": "3c5c4c81-dbfc-41d5-9538-4f79d530ed2a",
      "metadata": {
        "id": "3c5c4c81-dbfc-41d5-9538-4f79d530ed2a"
      },
      "outputs": [],
      "source": [
        "cui_list = list(set(cui_list))"
      ]
    },
    {
      "cell_type": "code",
      "execution_count": 53,
      "id": "1a5f3eeb-f62c-42f4-b349-d7f92febea1a",
      "metadata": {
        "id": "1a5f3eeb-f62c-42f4-b349-d7f92febea1a",
        "outputId": "71856515-61fc-4a4d-c697-7c87ec6650d3",
        "colab": {
          "base_uri": "https://localhost:8080/"
        }
      },
      "outputs": [
        {
          "output_type": "execute_result",
          "data": {
            "text/plain": [
              "264499"
            ]
          },
          "metadata": {},
          "execution_count": 53
        }
      ],
      "source": [
        "len(cui_list)"
      ]
    },
    {
      "cell_type": "code",
      "execution_count": 54,
      "id": "8e2b8492-4aa9-4ff1-b664-706cf2f1f8ed",
      "metadata": {
        "id": "8e2b8492-4aa9-4ff1-b664-706cf2f1f8ed"
      },
      "outputs": [],
      "source": [
        "df_CONSO_cleaned=df[df[0].isin(cui_list)]"
      ]
    },
    {
      "cell_type": "code",
      "execution_count": 55,
      "id": "46bbe23a-8659-4532-880d-e4675fcc43ce",
      "metadata": {
        "id": "46bbe23a-8659-4532-880d-e4675fcc43ce",
        "outputId": "90bd37af-9aa2-4624-918d-94df47e70df4",
        "colab": {
          "base_uri": "https://localhost:8080/"
        }
      },
      "outputs": [
        {
          "output_type": "stream",
          "name": "stdout",
          "text": [
            "                 0                                            1\n",
            "6         C0000039              1,2-dipalmitoylfosfatidylcholin\n",
            "7         C0000039                                         DPPC\n",
            "8         C0000039                  dipalmitoylfosfatidylcholin\n",
            "9         C0000039                 dipalmitoyl-fosfatidylcholin\n",
            "10        C0000039           1,2-dipalmitoylphosphatidylcholine\n",
            "...            ...                                          ...\n",
            "13616972  C5847614  Diabetes mellitus type 1 stage 1 (disorder)\n",
            "13616973  C5847615             Diabetes mellitus type 1 stage 2\n",
            "13616974  C5847615  Diabetes mellitus type 1 stage 2 (disorder)\n",
            "13616990  C5847622             Diabetes mellitus type 1 stage 3\n",
            "13616991  C5847622  Diabetes mellitus type 1 stage 3 (disorder)\n",
            "\n",
            "[3485957 rows x 2 columns]\n"
          ]
        }
      ],
      "source": [
        "print(df_CONSO_cleaned)"
      ]
    },
    {
      "cell_type": "code",
      "execution_count": 75,
      "id": "c1f29c0c-6cf4-4f8f-aab0-20873c21b08f",
      "metadata": {
        "id": "c1f29c0c-6cf4-4f8f-aab0-20873c21b08f"
      },
      "outputs": [],
      "source": [
        "dataframe_path = gdrive_base_address + \"dataframes/\"\n",
        "os.makedirs(dataframe_path, exist_ok=True)\n",
        "df_CONSO_cleaned.to_csv(dataframe_path + 'MRCONSO.csv')"
      ]
    },
    {
      "cell_type": "code",
      "execution_count": 73,
      "id": "bdcf1d2d-8a92-42ad-a9eb-85362128fedb",
      "metadata": {
        "id": "bdcf1d2d-8a92-42ad-a9eb-85362128fedb"
      },
      "outputs": [],
      "source": [
        "df2.to_csv(dataframe_path + 'MRDEF.csv')"
      ]
    }
  ],
  "metadata": {
    "kernelspec": {
      "display_name": "env",
      "language": "python",
      "name": "env"
    },
    "language_info": {
      "codemirror_mode": {
        "name": "ipython",
        "version": 3
      },
      "file_extension": ".py",
      "mimetype": "text/x-python",
      "name": "python",
      "nbconvert_exporter": "python",
      "pygments_lexer": "ipython3",
      "version": "3.10.12"
    },
    "colab": {
      "provenance": [],
      "include_colab_link": true
    },
    "widgets": {
      "application/vnd.jupyter.widget-state+json": {
        "2ee8fb58a7a74075a1fc11197694346d": {
          "model_module": "@jupyter-widgets/controls",
          "model_name": "HBoxModel",
          "model_module_version": "1.5.0",
          "state": {
            "_dom_classes": [],
            "_model_module": "@jupyter-widgets/controls",
            "_model_module_version": "1.5.0",
            "_model_name": "HBoxModel",
            "_view_count": null,
            "_view_module": "@jupyter-widgets/controls",
            "_view_module_version": "1.5.0",
            "_view_name": "HBoxView",
            "box_style": "",
            "children": [
              "IPY_MODEL_529150c2533849eabb5c25db4ae7023d",
              "IPY_MODEL_fe48c2fdcf7641d2bc11e376235fe16d",
              "IPY_MODEL_e6abff799a7d4e338955bbcc6df6bcca"
            ],
            "layout": "IPY_MODEL_8b27a93dda9d4c3c9883ac62f37520c1"
          }
        },
        "529150c2533849eabb5c25db4ae7023d": {
          "model_module": "@jupyter-widgets/controls",
          "model_name": "HTMLModel",
          "model_module_version": "1.5.0",
          "state": {
            "_dom_classes": [],
            "_model_module": "@jupyter-widgets/controls",
            "_model_module_version": "1.5.0",
            "_model_name": "HTMLModel",
            "_view_count": null,
            "_view_module": "@jupyter-widgets/controls",
            "_view_module_version": "1.5.0",
            "_view_name": "HTMLView",
            "description": "",
            "description_tooltip": null,
            "layout": "IPY_MODEL_c493ea2dae864c50a5b1d9b1fdcfe5bd",
            "placeholder": "​",
            "style": "IPY_MODEL_b0db3bdf477e4f94a9ff462a7df7158d",
            "value": "100%"
          }
        },
        "fe48c2fdcf7641d2bc11e376235fe16d": {
          "model_module": "@jupyter-widgets/controls",
          "model_name": "FloatProgressModel",
          "model_module_version": "1.5.0",
          "state": {
            "_dom_classes": [],
            "_model_module": "@jupyter-widgets/controls",
            "_model_module_version": "1.5.0",
            "_model_name": "FloatProgressModel",
            "_view_count": null,
            "_view_module": "@jupyter-widgets/controls",
            "_view_module_version": "1.5.0",
            "_view_name": "ProgressView",
            "bar_style": "success",
            "description": "",
            "description_tooltip": null,
            "layout": "IPY_MODEL_c1437d5ef8c5452ba64c221c0baeb393",
            "max": 13617333,
            "min": 0,
            "orientation": "horizontal",
            "style": "IPY_MODEL_2e0c0ef0b6c74ff788f5c20d8068d7a0",
            "value": 13617333
          }
        },
        "e6abff799a7d4e338955bbcc6df6bcca": {
          "model_module": "@jupyter-widgets/controls",
          "model_name": "HTMLModel",
          "model_module_version": "1.5.0",
          "state": {
            "_dom_classes": [],
            "_model_module": "@jupyter-widgets/controls",
            "_model_module_version": "1.5.0",
            "_model_name": "HTMLModel",
            "_view_count": null,
            "_view_module": "@jupyter-widgets/controls",
            "_view_module_version": "1.5.0",
            "_view_name": "HTMLView",
            "description": "",
            "description_tooltip": null,
            "layout": "IPY_MODEL_81f584072e3b45e1b1d0da28ea3b51c2",
            "placeholder": "​",
            "style": "IPY_MODEL_ce3e22388c2d4146b8e86e10f7af1053",
            "value": " 13617333/13617333 [01:02&lt;00:00, 576124.15it/s]"
          }
        },
        "8b27a93dda9d4c3c9883ac62f37520c1": {
          "model_module": "@jupyter-widgets/base",
          "model_name": "LayoutModel",
          "model_module_version": "1.2.0",
          "state": {
            "_model_module": "@jupyter-widgets/base",
            "_model_module_version": "1.2.0",
            "_model_name": "LayoutModel",
            "_view_count": null,
            "_view_module": "@jupyter-widgets/base",
            "_view_module_version": "1.2.0",
            "_view_name": "LayoutView",
            "align_content": null,
            "align_items": null,
            "align_self": null,
            "border": null,
            "bottom": null,
            "display": null,
            "flex": null,
            "flex_flow": null,
            "grid_area": null,
            "grid_auto_columns": null,
            "grid_auto_flow": null,
            "grid_auto_rows": null,
            "grid_column": null,
            "grid_gap": null,
            "grid_row": null,
            "grid_template_areas": null,
            "grid_template_columns": null,
            "grid_template_rows": null,
            "height": null,
            "justify_content": null,
            "justify_items": null,
            "left": null,
            "margin": null,
            "max_height": null,
            "max_width": null,
            "min_height": null,
            "min_width": null,
            "object_fit": null,
            "object_position": null,
            "order": null,
            "overflow": null,
            "overflow_x": null,
            "overflow_y": null,
            "padding": null,
            "right": null,
            "top": null,
            "visibility": null,
            "width": null
          }
        },
        "c493ea2dae864c50a5b1d9b1fdcfe5bd": {
          "model_module": "@jupyter-widgets/base",
          "model_name": "LayoutModel",
          "model_module_version": "1.2.0",
          "state": {
            "_model_module": "@jupyter-widgets/base",
            "_model_module_version": "1.2.0",
            "_model_name": "LayoutModel",
            "_view_count": null,
            "_view_module": "@jupyter-widgets/base",
            "_view_module_version": "1.2.0",
            "_view_name": "LayoutView",
            "align_content": null,
            "align_items": null,
            "align_self": null,
            "border": null,
            "bottom": null,
            "display": null,
            "flex": null,
            "flex_flow": null,
            "grid_area": null,
            "grid_auto_columns": null,
            "grid_auto_flow": null,
            "grid_auto_rows": null,
            "grid_column": null,
            "grid_gap": null,
            "grid_row": null,
            "grid_template_areas": null,
            "grid_template_columns": null,
            "grid_template_rows": null,
            "height": null,
            "justify_content": null,
            "justify_items": null,
            "left": null,
            "margin": null,
            "max_height": null,
            "max_width": null,
            "min_height": null,
            "min_width": null,
            "object_fit": null,
            "object_position": null,
            "order": null,
            "overflow": null,
            "overflow_x": null,
            "overflow_y": null,
            "padding": null,
            "right": null,
            "top": null,
            "visibility": null,
            "width": null
          }
        },
        "b0db3bdf477e4f94a9ff462a7df7158d": {
          "model_module": "@jupyter-widgets/controls",
          "model_name": "DescriptionStyleModel",
          "model_module_version": "1.5.0",
          "state": {
            "_model_module": "@jupyter-widgets/controls",
            "_model_module_version": "1.5.0",
            "_model_name": "DescriptionStyleModel",
            "_view_count": null,
            "_view_module": "@jupyter-widgets/base",
            "_view_module_version": "1.2.0",
            "_view_name": "StyleView",
            "description_width": ""
          }
        },
        "c1437d5ef8c5452ba64c221c0baeb393": {
          "model_module": "@jupyter-widgets/base",
          "model_name": "LayoutModel",
          "model_module_version": "1.2.0",
          "state": {
            "_model_module": "@jupyter-widgets/base",
            "_model_module_version": "1.2.0",
            "_model_name": "LayoutModel",
            "_view_count": null,
            "_view_module": "@jupyter-widgets/base",
            "_view_module_version": "1.2.0",
            "_view_name": "LayoutView",
            "align_content": null,
            "align_items": null,
            "align_self": null,
            "border": null,
            "bottom": null,
            "display": null,
            "flex": null,
            "flex_flow": null,
            "grid_area": null,
            "grid_auto_columns": null,
            "grid_auto_flow": null,
            "grid_auto_rows": null,
            "grid_column": null,
            "grid_gap": null,
            "grid_row": null,
            "grid_template_areas": null,
            "grid_template_columns": null,
            "grid_template_rows": null,
            "height": null,
            "justify_content": null,
            "justify_items": null,
            "left": null,
            "margin": null,
            "max_height": null,
            "max_width": null,
            "min_height": null,
            "min_width": null,
            "object_fit": null,
            "object_position": null,
            "order": null,
            "overflow": null,
            "overflow_x": null,
            "overflow_y": null,
            "padding": null,
            "right": null,
            "top": null,
            "visibility": null,
            "width": null
          }
        },
        "2e0c0ef0b6c74ff788f5c20d8068d7a0": {
          "model_module": "@jupyter-widgets/controls",
          "model_name": "ProgressStyleModel",
          "model_module_version": "1.5.0",
          "state": {
            "_model_module": "@jupyter-widgets/controls",
            "_model_module_version": "1.5.0",
            "_model_name": "ProgressStyleModel",
            "_view_count": null,
            "_view_module": "@jupyter-widgets/base",
            "_view_module_version": "1.2.0",
            "_view_name": "StyleView",
            "bar_color": null,
            "description_width": ""
          }
        },
        "81f584072e3b45e1b1d0da28ea3b51c2": {
          "model_module": "@jupyter-widgets/base",
          "model_name": "LayoutModel",
          "model_module_version": "1.2.0",
          "state": {
            "_model_module": "@jupyter-widgets/base",
            "_model_module_version": "1.2.0",
            "_model_name": "LayoutModel",
            "_view_count": null,
            "_view_module": "@jupyter-widgets/base",
            "_view_module_version": "1.2.0",
            "_view_name": "LayoutView",
            "align_content": null,
            "align_items": null,
            "align_self": null,
            "border": null,
            "bottom": null,
            "display": null,
            "flex": null,
            "flex_flow": null,
            "grid_area": null,
            "grid_auto_columns": null,
            "grid_auto_flow": null,
            "grid_auto_rows": null,
            "grid_column": null,
            "grid_gap": null,
            "grid_row": null,
            "grid_template_areas": null,
            "grid_template_columns": null,
            "grid_template_rows": null,
            "height": null,
            "justify_content": null,
            "justify_items": null,
            "left": null,
            "margin": null,
            "max_height": null,
            "max_width": null,
            "min_height": null,
            "min_width": null,
            "object_fit": null,
            "object_position": null,
            "order": null,
            "overflow": null,
            "overflow_x": null,
            "overflow_y": null,
            "padding": null,
            "right": null,
            "top": null,
            "visibility": null,
            "width": null
          }
        },
        "ce3e22388c2d4146b8e86e10f7af1053": {
          "model_module": "@jupyter-widgets/controls",
          "model_name": "DescriptionStyleModel",
          "model_module_version": "1.5.0",
          "state": {
            "_model_module": "@jupyter-widgets/controls",
            "_model_module_version": "1.5.0",
            "_model_name": "DescriptionStyleModel",
            "_view_count": null,
            "_view_module": "@jupyter-widgets/base",
            "_view_module_version": "1.2.0",
            "_view_name": "StyleView",
            "description_width": ""
          }
        },
        "057d69d1bd34445484e3ca1f913b6b1a": {
          "model_module": "@jupyter-widgets/controls",
          "model_name": "HBoxModel",
          "model_module_version": "1.5.0",
          "state": {
            "_dom_classes": [],
            "_model_module": "@jupyter-widgets/controls",
            "_model_module_version": "1.5.0",
            "_model_name": "HBoxModel",
            "_view_count": null,
            "_view_module": "@jupyter-widgets/controls",
            "_view_module_version": "1.5.0",
            "_view_name": "HBoxView",
            "box_style": "",
            "children": [
              "IPY_MODEL_372b79dab0ff42019fbe420c02749dcf",
              "IPY_MODEL_51fb82f1ea0448ee9a65e2e56e594b3e",
              "IPY_MODEL_5403ca4740e141968e3a63a27b5560ab"
            ],
            "layout": "IPY_MODEL_7d1a78bfbadf498592f19bd73439fb3f"
          }
        },
        "372b79dab0ff42019fbe420c02749dcf": {
          "model_module": "@jupyter-widgets/controls",
          "model_name": "HTMLModel",
          "model_module_version": "1.5.0",
          "state": {
            "_dom_classes": [],
            "_model_module": "@jupyter-widgets/controls",
            "_model_module_version": "1.5.0",
            "_model_name": "HTMLModel",
            "_view_count": null,
            "_view_module": "@jupyter-widgets/controls",
            "_view_module_version": "1.5.0",
            "_view_name": "HTMLView",
            "description": "",
            "description_tooltip": null,
            "layout": "IPY_MODEL_8e1aa56d0d3e42a28716b693f39b4dc3",
            "placeholder": "​",
            "style": "IPY_MODEL_6d663a9416684716bfd53fef5773d233",
            "value": "100%"
          }
        },
        "51fb82f1ea0448ee9a65e2e56e594b3e": {
          "model_module": "@jupyter-widgets/controls",
          "model_name": "FloatProgressModel",
          "model_module_version": "1.5.0",
          "state": {
            "_dom_classes": [],
            "_model_module": "@jupyter-widgets/controls",
            "_model_module_version": "1.5.0",
            "_model_name": "FloatProgressModel",
            "_view_count": null,
            "_view_module": "@jupyter-widgets/controls",
            "_view_module_version": "1.5.0",
            "_view_name": "ProgressView",
            "bar_style": "success",
            "description": "",
            "description_tooltip": null,
            "layout": "IPY_MODEL_5c1fdf83528c4ddb86eb020e6b9d4598",
            "max": 430839,
            "min": 0,
            "orientation": "horizontal",
            "style": "IPY_MODEL_bbfdd7a26ac44a379019aa12698ca899",
            "value": 430839
          }
        },
        "5403ca4740e141968e3a63a27b5560ab": {
          "model_module": "@jupyter-widgets/controls",
          "model_name": "HTMLModel",
          "model_module_version": "1.5.0",
          "state": {
            "_dom_classes": [],
            "_model_module": "@jupyter-widgets/controls",
            "_model_module_version": "1.5.0",
            "_model_name": "HTMLModel",
            "_view_count": null,
            "_view_module": "@jupyter-widgets/controls",
            "_view_module_version": "1.5.0",
            "_view_name": "HTMLView",
            "description": "",
            "description_tooltip": null,
            "layout": "IPY_MODEL_4e5fa11db23a44208fdb8efcff567755",
            "placeholder": "​",
            "style": "IPY_MODEL_e6e32a4c019f4c3b8b8e0df0aef4c3b3",
            "value": " 430839/430839 [00:01&lt;00:00, 435312.59it/s]"
          }
        },
        "7d1a78bfbadf498592f19bd73439fb3f": {
          "model_module": "@jupyter-widgets/base",
          "model_name": "LayoutModel",
          "model_module_version": "1.2.0",
          "state": {
            "_model_module": "@jupyter-widgets/base",
            "_model_module_version": "1.2.0",
            "_model_name": "LayoutModel",
            "_view_count": null,
            "_view_module": "@jupyter-widgets/base",
            "_view_module_version": "1.2.0",
            "_view_name": "LayoutView",
            "align_content": null,
            "align_items": null,
            "align_self": null,
            "border": null,
            "bottom": null,
            "display": null,
            "flex": null,
            "flex_flow": null,
            "grid_area": null,
            "grid_auto_columns": null,
            "grid_auto_flow": null,
            "grid_auto_rows": null,
            "grid_column": null,
            "grid_gap": null,
            "grid_row": null,
            "grid_template_areas": null,
            "grid_template_columns": null,
            "grid_template_rows": null,
            "height": null,
            "justify_content": null,
            "justify_items": null,
            "left": null,
            "margin": null,
            "max_height": null,
            "max_width": null,
            "min_height": null,
            "min_width": null,
            "object_fit": null,
            "object_position": null,
            "order": null,
            "overflow": null,
            "overflow_x": null,
            "overflow_y": null,
            "padding": null,
            "right": null,
            "top": null,
            "visibility": null,
            "width": null
          }
        },
        "8e1aa56d0d3e42a28716b693f39b4dc3": {
          "model_module": "@jupyter-widgets/base",
          "model_name": "LayoutModel",
          "model_module_version": "1.2.0",
          "state": {
            "_model_module": "@jupyter-widgets/base",
            "_model_module_version": "1.2.0",
            "_model_name": "LayoutModel",
            "_view_count": null,
            "_view_module": "@jupyter-widgets/base",
            "_view_module_version": "1.2.0",
            "_view_name": "LayoutView",
            "align_content": null,
            "align_items": null,
            "align_self": null,
            "border": null,
            "bottom": null,
            "display": null,
            "flex": null,
            "flex_flow": null,
            "grid_area": null,
            "grid_auto_columns": null,
            "grid_auto_flow": null,
            "grid_auto_rows": null,
            "grid_column": null,
            "grid_gap": null,
            "grid_row": null,
            "grid_template_areas": null,
            "grid_template_columns": null,
            "grid_template_rows": null,
            "height": null,
            "justify_content": null,
            "justify_items": null,
            "left": null,
            "margin": null,
            "max_height": null,
            "max_width": null,
            "min_height": null,
            "min_width": null,
            "object_fit": null,
            "object_position": null,
            "order": null,
            "overflow": null,
            "overflow_x": null,
            "overflow_y": null,
            "padding": null,
            "right": null,
            "top": null,
            "visibility": null,
            "width": null
          }
        },
        "6d663a9416684716bfd53fef5773d233": {
          "model_module": "@jupyter-widgets/controls",
          "model_name": "DescriptionStyleModel",
          "model_module_version": "1.5.0",
          "state": {
            "_model_module": "@jupyter-widgets/controls",
            "_model_module_version": "1.5.0",
            "_model_name": "DescriptionStyleModel",
            "_view_count": null,
            "_view_module": "@jupyter-widgets/base",
            "_view_module_version": "1.2.0",
            "_view_name": "StyleView",
            "description_width": ""
          }
        },
        "5c1fdf83528c4ddb86eb020e6b9d4598": {
          "model_module": "@jupyter-widgets/base",
          "model_name": "LayoutModel",
          "model_module_version": "1.2.0",
          "state": {
            "_model_module": "@jupyter-widgets/base",
            "_model_module_version": "1.2.0",
            "_model_name": "LayoutModel",
            "_view_count": null,
            "_view_module": "@jupyter-widgets/base",
            "_view_module_version": "1.2.0",
            "_view_name": "LayoutView",
            "align_content": null,
            "align_items": null,
            "align_self": null,
            "border": null,
            "bottom": null,
            "display": null,
            "flex": null,
            "flex_flow": null,
            "grid_area": null,
            "grid_auto_columns": null,
            "grid_auto_flow": null,
            "grid_auto_rows": null,
            "grid_column": null,
            "grid_gap": null,
            "grid_row": null,
            "grid_template_areas": null,
            "grid_template_columns": null,
            "grid_template_rows": null,
            "height": null,
            "justify_content": null,
            "justify_items": null,
            "left": null,
            "margin": null,
            "max_height": null,
            "max_width": null,
            "min_height": null,
            "min_width": null,
            "object_fit": null,
            "object_position": null,
            "order": null,
            "overflow": null,
            "overflow_x": null,
            "overflow_y": null,
            "padding": null,
            "right": null,
            "top": null,
            "visibility": null,
            "width": null
          }
        },
        "bbfdd7a26ac44a379019aa12698ca899": {
          "model_module": "@jupyter-widgets/controls",
          "model_name": "ProgressStyleModel",
          "model_module_version": "1.5.0",
          "state": {
            "_model_module": "@jupyter-widgets/controls",
            "_model_module_version": "1.5.0",
            "_model_name": "ProgressStyleModel",
            "_view_count": null,
            "_view_module": "@jupyter-widgets/base",
            "_view_module_version": "1.2.0",
            "_view_name": "StyleView",
            "bar_color": null,
            "description_width": ""
          }
        },
        "4e5fa11db23a44208fdb8efcff567755": {
          "model_module": "@jupyter-widgets/base",
          "model_name": "LayoutModel",
          "model_module_version": "1.2.0",
          "state": {
            "_model_module": "@jupyter-widgets/base",
            "_model_module_version": "1.2.0",
            "_model_name": "LayoutModel",
            "_view_count": null,
            "_view_module": "@jupyter-widgets/base",
            "_view_module_version": "1.2.0",
            "_view_name": "LayoutView",
            "align_content": null,
            "align_items": null,
            "align_self": null,
            "border": null,
            "bottom": null,
            "display": null,
            "flex": null,
            "flex_flow": null,
            "grid_area": null,
            "grid_auto_columns": null,
            "grid_auto_flow": null,
            "grid_auto_rows": null,
            "grid_column": null,
            "grid_gap": null,
            "grid_row": null,
            "grid_template_areas": null,
            "grid_template_columns": null,
            "grid_template_rows": null,
            "height": null,
            "justify_content": null,
            "justify_items": null,
            "left": null,
            "margin": null,
            "max_height": null,
            "max_width": null,
            "min_height": null,
            "min_width": null,
            "object_fit": null,
            "object_position": null,
            "order": null,
            "overflow": null,
            "overflow_x": null,
            "overflow_y": null,
            "padding": null,
            "right": null,
            "top": null,
            "visibility": null,
            "width": null
          }
        },
        "e6e32a4c019f4c3b8b8e0df0aef4c3b3": {
          "model_module": "@jupyter-widgets/controls",
          "model_name": "DescriptionStyleModel",
          "model_module_version": "1.5.0",
          "state": {
            "_model_module": "@jupyter-widgets/controls",
            "_model_module_version": "1.5.0",
            "_model_name": "DescriptionStyleModel",
            "_view_count": null,
            "_view_module": "@jupyter-widgets/base",
            "_view_module_version": "1.2.0",
            "_view_name": "StyleView",
            "description_width": ""
          }
        }
      }
    }
  },
  "nbformat": 4,
  "nbformat_minor": 5
}