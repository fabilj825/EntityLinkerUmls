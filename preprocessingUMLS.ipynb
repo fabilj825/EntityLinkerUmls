{
 "cells": [
  {
   "cell_type": "code",
   "execution_count": 11,
   "id": "abf557fd-e5d5-4c87-84f1-23b1070d487b",
   "metadata": {},
   "outputs": [],
   "source": [
    "from tqdm.auto import tqdm\n",
    "import itertools\n",
    "import random\n",
    "from pathlib import Path\n",
    "import pandas as pd\n",
    "\n"
   ]
  },
  {
   "cell_type": "code",
   "execution_count": 3,
   "id": "bbe693fb-811a-4be7-9fdb-3120761f517b",
   "metadata": {},
   "outputs": [],
   "source": [
    "MRCONSO_path=Path.cwd().parent / \"UMLS/MRCONSO.RRF\""
   ]
  },
  {
   "cell_type": "code",
   "execution_count": 32,
   "id": "6704fb7e-4912-463c-b5c4-f71737a87faf",
   "metadata": {},
   "outputs": [
    {
     "name": "stdout",
     "output_type": "stream",
     "text": [
      "15718215\n"
     ]
    }
   ],
   "source": [
    "with open(MRCONSO_path, \"r\") as f:\n",
    "    lines = f.readlines()\n",
    "print (len(lines))"
   ]
  },
  {
   "cell_type": "code",
   "execution_count": 33,
   "id": "79c019a3-08d6-431f-a9b1-0acd27234fd5",
   "metadata": {},
   "outputs": [
    {
     "data": {
      "application/vnd.jupyter.widget-view+json": {
       "model_id": "7b1b62468a184e0cb9d77dd092a8918a",
       "version_major": 2,
       "version_minor": 0
      },
      "text/plain": [
       "  0%|          | 0/15718215 [00:00<?, ?it/s]"
      ]
     },
     "metadata": {},
     "output_type": "display_data"
    },
    {
     "name": "stdout",
     "output_type": "stream",
     "text": [
      "15718215\n"
     ]
    }
   ],
   "source": [
    "cleaned = []\n",
    "count = 0\n",
    "for l in tqdm(lines):\n",
    "    lst = l.rstrip(\"\\n\").split(\"|\")\n",
    "    cui, synonym = lst[0], lst[14]\n",
    "\n",
    "    cleaned.append([cui,synonym])\n",
    "print (len(cleaned))\n",
    "\n"
   ]
  },
  {
   "cell_type": "code",
   "execution_count": 34,
   "id": "31596537-8e2b-40fb-84ae-92fdd4ba2973",
   "metadata": {},
   "outputs": [],
   "source": [
    "df = pd.DataFrame(cleaned)"
   ]
  },
  {
   "cell_type": "code",
   "execution_count": 42,
   "id": "c7627c49-74c3-4d29-8e08-209e4156013c",
   "metadata": {},
   "outputs": [
    {
     "name": "stdout",
     "output_type": "stream",
     "text": [
      "           0                                                  1\n",
      "20  C0000039                     Dipalmitoylphosphatidylcholine\n",
      "21  C0000039                     Dipalmitoylphosphatidylcholine\n",
      "22  C0000039                     Dipalmitoylphosphatidylcholine\n",
      "23  C0000039                     Dipalmitoylphosphatidylcholine\n",
      "24  C0000039                   Dipalmitoylglycerophosphocholine\n",
      "25  C0000039                                Dipalmitoyllecithin\n",
      "26  C0000039  3,5,9-Trioxa-4-phosphapentacosan-1-aminium, 4-...\n",
      "27  C0000039         Dipalmitoylphosphatidylcholine (substance)\n",
      "28  C0000039                    Dipalmitoyl Phosphatidylcholine\n",
      "29  C0000039                   Phosphatidylcholine, Dipalmitoyl\n"
     ]
    }
   ],
   "source": [
    "print(df[20:30])"
   ]
  },
  {
   "cell_type": "code",
   "execution_count": 35,
   "id": "54b5580e-bf43-446a-84eb-678d92cb0acb",
   "metadata": {},
   "outputs": [],
   "source": [
    "MRDEF_path=Path.cwd().parent / \"UMLS/MRDEF.RRF\"\n"
   ]
  },
  {
   "cell_type": "code",
   "execution_count": 36,
   "id": "cc98b736-aab9-4690-98a2-5af667844f41",
   "metadata": {},
   "outputs": [
    {
     "name": "stdout",
     "output_type": "stream",
     "text": [
      "430619\n"
     ]
    }
   ],
   "source": [
    "with open(MRDEF_path, \"r\") as f:\n",
    "    lines = f.readlines()\n",
    "print (len(lines))"
   ]
  },
  {
   "cell_type": "code",
   "execution_count": 37,
   "id": "233a1d66-8ccc-43a9-b1f4-d11ccb1f20cb",
   "metadata": {},
   "outputs": [
    {
     "data": {
      "application/vnd.jupyter.widget-view+json": {
       "model_id": "08bc17090c1a48ce9f107e2009c59511",
       "version_major": 2,
       "version_minor": 0
      },
      "text/plain": [
       "  0%|          | 0/430619 [00:00<?, ?it/s]"
      ]
     },
     "metadata": {},
     "output_type": "display_data"
    },
    {
     "name": "stdout",
     "output_type": "stream",
     "text": [
      "430619\n"
     ]
    }
   ],
   "source": [
    "cleaned = []\n",
    "count = 0\n",
    "for l in tqdm(lines):\n",
    "    lst = l.rstrip(\"\\n\").split(\"|\")\n",
    "    cui, definition = lst[0], lst[5]\n",
    "    \n",
    "    cleaned.append([cui,definition])\n",
    "print (len(cleaned))\n",
    "\n"
   ]
  },
  {
   "cell_type": "code",
   "execution_count": 38,
   "id": "e3f78dc1-7b10-4cc7-a5ca-fb9db9167dd8",
   "metadata": {},
   "outputs": [],
   "source": [
    "df2 = pd.DataFrame(cleaned)"
   ]
  },
  {
   "cell_type": "code",
   "execution_count": 48,
   "id": "756f25f8-06b0-4dbb-b2a7-b0bd235fb729",
   "metadata": {},
   "outputs": [
    {
     "name": "stdout",
     "output_type": "stream",
     "text": [
      "           0                                                  1\n",
      "80  C0000173  Analog desoxykortikosteronu, který je v poloze...\n",
      "81  C0000173  Análogo da desoxicorticosterona que é substitu...\n",
      "82  C0000173  Análogo de la desoxicorticosterona que es reem...\n",
      "83  C0000176  19-Iodocholest-5-en-3 beta-ol. A cholesterol d...\n",
      "84  C0000176  19-jodkolest-5-en-3-beta-ol. Ett kolesterolder...\n",
      "85  C0000176  19-Iodocolest-5-en-3-beta-ol. Derivado do cole...\n",
      "86  C0000176  19-Iodocolest-5-en-3-beta-ol. Derivado del col...\n",
      "87  C0000184  Nucleoside-2',3'-cyclic phosphate nucleotidohy...\n",
      "88  C0000184  Nucleosid-2',3'-cyklisk fosfatnukleotidhydrola...\n",
      "89  C0000184  Nukleosid-2',3'-cyklická fosforečnanová nukleo...\n",
      "90  C0000184  2',3'-Nucleosídeo cíclico fosfato nucleotidioi...\n",
      "91  C0000184  2',3'-Nucleósido cíclico fosfato nucleotidohid...\n",
      "92  C0000189  An enzyme that catalyzes the conversion of ATP...\n",
      "93  C0000189  Ett enzym som katalyserar omvandlingen av ATP ...\n",
      "94  C0000189  Enzym, který katalyzuje přeměnu ATP na řadu (2...\n",
      "95  C0000189  Enzima que catalisa a conversão de ATP a uma s...\n",
      "96  C0000189  Enzima que cataliza la conversión de ATP en un...\n",
      "97  C0000194      A reagent used for the determination of iron.\n",
      "98  C0000194  alfa,alfa-dipyridyl. Används som reagens för b...\n",
      "99  C0000194                      Činidlo pro stanovení železa.\n"
     ]
    }
   ],
   "source": [
    "print(df2[80:100])"
   ]
  },
  {
   "cell_type": "code",
   "execution_count": 43,
   "id": "084dc018-62fe-47d6-bcae-deb577b0768b",
   "metadata": {},
   "outputs": [],
   "source": [
    "cui_list = df2[0].tolist()"
   ]
  },
  {
   "cell_type": "code",
   "execution_count": 44,
   "id": "3c5c4c81-dbfc-41d5-9538-4f79d530ed2a",
   "metadata": {},
   "outputs": [],
   "source": [
    "cui_list = list(set(cui_list))"
   ]
  },
  {
   "cell_type": "code",
   "execution_count": 45,
   "id": "1a5f3eeb-f62c-42f4-b349-d7f92febea1a",
   "metadata": {},
   "outputs": [
    {
     "data": {
      "text/plain": [
       "263287"
      ]
     },
     "execution_count": 45,
     "metadata": {},
     "output_type": "execute_result"
    }
   ],
   "source": [
    "len(cui_list)"
   ]
  },
  {
   "cell_type": "code",
   "execution_count": 49,
   "id": "8e2b8492-4aa9-4ff1-b664-706cf2f1f8ed",
   "metadata": {},
   "outputs": [],
   "source": [
    "df_CONSO_cleaned=df[df[0].isin(cui_list)]"
   ]
  },
  {
   "cell_type": "code",
   "execution_count": 51,
   "id": "46bbe23a-8659-4532-880d-e4675fcc43ce",
   "metadata": {},
   "outputs": [
    {
     "name": "stdout",
     "output_type": "stream",
     "text": [
      "                 0                                   1\n",
      "6         C0000039     1,2-dipalmitoylfosfatidylcholin\n",
      "7         C0000039                                DPPC\n",
      "8         C0000039         dipalmitoylfosfatidylcholin\n",
      "9         C0000039        dipalmitoyl-fosfatidylcholin\n",
      "10        C0000039  1,2-dipalmitoylphosphatidylcholine\n",
      "...            ...                                 ...\n",
      "15718164  C5779474                          Opoterapia\n",
      "15718166  C5779476                        Crenoterapia\n",
      "15718167  C5779476                        Crenoterapía\n",
      "15718168  C5779477                            Reptação\n",
      "15718169  C5779477                           Reptación\n",
      "\n",
      "[3732965 rows x 2 columns]\n"
     ]
    }
   ],
   "source": [
    "print(df_CONSO_cleaned)"
   ]
  },
  {
   "cell_type": "code",
   "execution_count": 53,
   "id": "c1f29c0c-6cf4-4f8f-aab0-20873c21b08f",
   "metadata": {},
   "outputs": [],
   "source": [
    "import os  \n",
    "os.makedirs('./dataframes', exist_ok=True)  \n",
    "df_CONSO_cleaned.to_csv('./dataframes/MRCONSO.csv')  "
   ]
  },
  {
   "cell_type": "code",
   "execution_count": 1,
   "id": "bdcf1d2d-8a92-42ad-a9eb-85362128fedb",
   "metadata": {},
   "outputs": [
    {
     "ename": "NameError",
     "evalue": "name 'df2' is not defined",
     "output_type": "error",
     "traceback": [
      "\u001b[0;31m---------------------------------------------------------------------------\u001b[0m",
      "\u001b[0;31mNameError\u001b[0m                                 Traceback (most recent call last)",
      "Cell \u001b[0;32mIn[1], line 1\u001b[0m\n\u001b[0;32m----> 1\u001b[0m \u001b[43mdf2\u001b[49m\u001b[38;5;241m.\u001b[39mto_csv(\u001b[38;5;124m'\u001b[39m\u001b[38;5;124m./dataframes/MRDEF.csv\u001b[39m\u001b[38;5;124m'\u001b[39m)  \n",
      "\u001b[0;31mNameError\u001b[0m: name 'df2' is not defined"
     ]
    }
   ],
   "source": [
    "df2.to_csv('./dataframes/MRDEF.csv')  "
   ]
  }
 ],
 "metadata": {
  "kernelspec": {
   "display_name": "env",
   "language": "python",
   "name": "env"
  },
  "language_info": {
   "codemirror_mode": {
    "name": "ipython",
    "version": 3
   },
   "file_extension": ".py",
   "mimetype": "text/x-python",
   "name": "python",
   "nbconvert_exporter": "python",
   "pygments_lexer": "ipython3",
   "version": "3.10.12"
  }
 },
 "nbformat": 4,
 "nbformat_minor": 5
}
