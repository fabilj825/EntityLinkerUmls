{
  "cells": [
    {
      "cell_type": "markdown",
      "metadata": {
        "colab_type": "text",
        "id": "view-in-github"
      },
      "source": [
        "<a href=\"https://colab.research.google.com/github/fabilj825/EntityLinkerUmls/blob/main/medmentions_and_training.ipynb\" target=\"_parent\"><img src=\"https://colab.research.google.com/assets/colab-badge.svg\" alt=\"Open In Colab\"/></a>"
      ]
    },
    {
      "cell_type": "code",
      "execution_count": 3,
      "id": "Yl0iK2l7GM-I",
      "metadata": {
        "colab": {
          "base_uri": "https://localhost:8080/"
        },
        "id": "Yl0iK2l7GM-I",
        "outputId": "4111e8a5-0aaa-4bff-ef54-db1968ab2915"
      },
      "outputs": [
        {
          "name": "stdout",
          "output_type": "stream",
          "text": [
            "Drive already mounted at /content/drive; to attempt to forcibly remount, call drive.mount(\"/content/drive\", force_remount=True).\n"
          ]
        }
      ],
      "source": [
        "from pathlib import Path\n",
        "from google.colab import drive\n",
        "drive.mount('/content/drive')\n",
        "\n",
        "gdrive_base_address = \"drive/MyDrive/UMLS/\"\n",
        "dataframes_address = gdrive_base_address + \"dataframes/\"\n",
        "knowledgebase_address = gdrive_base_address + \"knowledgebase/\"\n",
        "model_address = gdrive_base_address + \"model/\"\n",
        "\n",
        "medmentions_path = gdrive_base_address + \"MedMentions/full/data/\"\n",
        "\n",
        "USE_SCIBERT = True"
      ]
    },
    {
      "cell_type": "code",
      "execution_count": 4,
      "id": "4ZKK8C2aLD4S",
      "metadata": {
        "colab": {
          "base_uri": "https://localhost:8080/"
        },
        "id": "4ZKK8C2aLD4S",
        "outputId": "910037b5-a4a3-487d-810d-e0ab329e867a"
      },
      "outputs": [
        {
          "name": "stdout",
          "output_type": "stream",
          "text": [
            "/bin/bash: line 1: virtualenv: command not found\n",
            "Collecting https://s3-us-west-2.amazonaws.com/ai2-s2-scispacy/releases/v0.5.3/en_core_sci_scibert-0.5.3.tar.gz\n",
            "  Using cached https://s3-us-west-2.amazonaws.com/ai2-s2-scispacy/releases/v0.5.3/en_core_sci_scibert-0.5.3.tar.gz (417.0 MB)\n",
            "  Preparing metadata (setup.py) ... \u001b[?25l\u001b[?25hdone\n",
            "Requirement already satisfied: spacy<3.7.0,>=3.6.1 in /usr/local/lib/python3.10/dist-packages (from en-core-sci-scibert==0.5.3) (3.6.1)\n",
            "Requirement already satisfied: spacy-transformers in /usr/local/lib/python3.10/dist-packages (from en-core-sci-scibert==0.5.3) (1.3.4)\n",
            "Requirement already satisfied: spacy-legacy<3.1.0,>=3.0.11 in /usr/local/lib/python3.10/dist-packages (from spacy<3.7.0,>=3.6.1->en-core-sci-scibert==0.5.3) (3.0.12)\n",
            "Requirement already satisfied: spacy-loggers<2.0.0,>=1.0.0 in /usr/local/lib/python3.10/dist-packages (from spacy<3.7.0,>=3.6.1->en-core-sci-scibert==0.5.3) (1.0.5)\n",
            "Requirement already satisfied: murmurhash<1.1.0,>=0.28.0 in /usr/local/lib/python3.10/dist-packages (from spacy<3.7.0,>=3.6.1->en-core-sci-scibert==0.5.3) (1.0.10)\n",
            "Requirement already satisfied: cymem<2.1.0,>=2.0.2 in /usr/local/lib/python3.10/dist-packages (from spacy<3.7.0,>=3.6.1->en-core-sci-scibert==0.5.3) (2.0.8)\n",
            "Requirement already satisfied: preshed<3.1.0,>=3.0.2 in /usr/local/lib/python3.10/dist-packages (from spacy<3.7.0,>=3.6.1->en-core-sci-scibert==0.5.3) (3.0.9)\n",
            "Requirement already satisfied: thinc<8.2.0,>=8.1.8 in /usr/local/lib/python3.10/dist-packages (from spacy<3.7.0,>=3.6.1->en-core-sci-scibert==0.5.3) (8.1.12)\n",
            "Requirement already satisfied: wasabi<1.2.0,>=0.9.1 in /usr/local/lib/python3.10/dist-packages (from spacy<3.7.0,>=3.6.1->en-core-sci-scibert==0.5.3) (1.1.2)\n",
            "Requirement already satisfied: srsly<3.0.0,>=2.4.3 in /usr/local/lib/python3.10/dist-packages (from spacy<3.7.0,>=3.6.1->en-core-sci-scibert==0.5.3) (2.4.8)\n",
            "Requirement already satisfied: catalogue<2.1.0,>=2.0.6 in /usr/local/lib/python3.10/dist-packages (from spacy<3.7.0,>=3.6.1->en-core-sci-scibert==0.5.3) (2.0.10)\n",
            "Requirement already satisfied: typer<0.10.0,>=0.3.0 in /usr/local/lib/python3.10/dist-packages (from spacy<3.7.0,>=3.6.1->en-core-sci-scibert==0.5.3) (0.9.0)\n",
            "Requirement already satisfied: pathy>=0.10.0 in /usr/local/lib/python3.10/dist-packages (from spacy<3.7.0,>=3.6.1->en-core-sci-scibert==0.5.3) (0.10.3)\n",
            "Requirement already satisfied: smart-open<7.0.0,>=5.2.1 in /usr/local/lib/python3.10/dist-packages (from spacy<3.7.0,>=3.6.1->en-core-sci-scibert==0.5.3) (6.4.0)\n",
            "Requirement already satisfied: tqdm<5.0.0,>=4.38.0 in /usr/local/lib/python3.10/dist-packages (from spacy<3.7.0,>=3.6.1->en-core-sci-scibert==0.5.3) (4.66.1)\n",
            "Requirement already satisfied: numpy>=1.15.0 in /usr/local/lib/python3.10/dist-packages (from spacy<3.7.0,>=3.6.1->en-core-sci-scibert==0.5.3) (1.23.5)\n",
            "Requirement already satisfied: requests<3.0.0,>=2.13.0 in /usr/local/lib/python3.10/dist-packages (from spacy<3.7.0,>=3.6.1->en-core-sci-scibert==0.5.3) (2.31.0)\n",
            "Requirement already satisfied: pydantic!=1.8,!=1.8.1,<3.0.0,>=1.7.4 in /usr/local/lib/python3.10/dist-packages (from spacy<3.7.0,>=3.6.1->en-core-sci-scibert==0.5.3) (1.10.13)\n",
            "Requirement already satisfied: jinja2 in /usr/local/lib/python3.10/dist-packages (from spacy<3.7.0,>=3.6.1->en-core-sci-scibert==0.5.3) (3.1.3)\n",
            "Requirement already satisfied: setuptools in /usr/local/lib/python3.10/dist-packages (from spacy<3.7.0,>=3.6.1->en-core-sci-scibert==0.5.3) (67.7.2)\n",
            "Requirement already satisfied: packaging>=20.0 in /usr/local/lib/python3.10/dist-packages (from spacy<3.7.0,>=3.6.1->en-core-sci-scibert==0.5.3) (23.2)\n",
            "Requirement already satisfied: langcodes<4.0.0,>=3.2.0 in /usr/local/lib/python3.10/dist-packages (from spacy<3.7.0,>=3.6.1->en-core-sci-scibert==0.5.3) (3.3.0)\n",
            "Requirement already satisfied: transformers<4.37.0,>=3.4.0 in /usr/local/lib/python3.10/dist-packages (from spacy-transformers->en-core-sci-scibert==0.5.3) (4.35.2)\n",
            "Requirement already satisfied: torch>=1.8.0 in /usr/local/lib/python3.10/dist-packages (from spacy-transformers->en-core-sci-scibert==0.5.3) (2.1.0+cu121)\n",
            "Requirement already satisfied: spacy-alignments<1.0.0,>=0.7.2 in /usr/local/lib/python3.10/dist-packages (from spacy-transformers->en-core-sci-scibert==0.5.3) (0.9.1)\n",
            "Requirement already satisfied: typing-extensions>=4.2.0 in /usr/local/lib/python3.10/dist-packages (from pydantic!=1.8,!=1.8.1,<3.0.0,>=1.7.4->spacy<3.7.0,>=3.6.1->en-core-sci-scibert==0.5.3) (4.5.0)\n",
            "Requirement already satisfied: charset-normalizer<4,>=2 in /usr/local/lib/python3.10/dist-packages (from requests<3.0.0,>=2.13.0->spacy<3.7.0,>=3.6.1->en-core-sci-scibert==0.5.3) (3.3.2)\n",
            "Requirement already satisfied: idna<4,>=2.5 in /usr/local/lib/python3.10/dist-packages (from requests<3.0.0,>=2.13.0->spacy<3.7.0,>=3.6.1->en-core-sci-scibert==0.5.3) (3.6)\n",
            "Requirement already satisfied: urllib3<3,>=1.21.1 in /usr/local/lib/python3.10/dist-packages (from requests<3.0.0,>=2.13.0->spacy<3.7.0,>=3.6.1->en-core-sci-scibert==0.5.3) (2.0.7)\n",
            "Requirement already satisfied: certifi>=2017.4.17 in /usr/local/lib/python3.10/dist-packages (from requests<3.0.0,>=2.13.0->spacy<3.7.0,>=3.6.1->en-core-sci-scibert==0.5.3) (2023.11.17)\n",
            "Requirement already satisfied: blis<0.8.0,>=0.7.8 in /usr/local/lib/python3.10/dist-packages (from thinc<8.2.0,>=8.1.8->spacy<3.7.0,>=3.6.1->en-core-sci-scibert==0.5.3) (0.7.11)\n",
            "Requirement already satisfied: confection<1.0.0,>=0.0.1 in /usr/local/lib/python3.10/dist-packages (from thinc<8.2.0,>=8.1.8->spacy<3.7.0,>=3.6.1->en-core-sci-scibert==0.5.3) (0.1.4)\n",
            "Requirement already satisfied: filelock in /usr/local/lib/python3.10/dist-packages (from torch>=1.8.0->spacy-transformers->en-core-sci-scibert==0.5.3) (3.13.1)\n",
            "Requirement already satisfied: sympy in /usr/local/lib/python3.10/dist-packages (from torch>=1.8.0->spacy-transformers->en-core-sci-scibert==0.5.3) (1.12)\n",
            "Requirement already satisfied: networkx in /usr/local/lib/python3.10/dist-packages (from torch>=1.8.0->spacy-transformers->en-core-sci-scibert==0.5.3) (3.2.1)\n",
            "Requirement already satisfied: fsspec in /usr/local/lib/python3.10/dist-packages (from torch>=1.8.0->spacy-transformers->en-core-sci-scibert==0.5.3) (2023.6.0)\n",
            "Requirement already satisfied: triton==2.1.0 in /usr/local/lib/python3.10/dist-packages (from torch>=1.8.0->spacy-transformers->en-core-sci-scibert==0.5.3) (2.1.0)\n",
            "Requirement already satisfied: huggingface-hub<1.0,>=0.16.4 in /usr/local/lib/python3.10/dist-packages (from transformers<4.37.0,>=3.4.0->spacy-transformers->en-core-sci-scibert==0.5.3) (0.20.2)\n",
            "Requirement already satisfied: pyyaml>=5.1 in /usr/local/lib/python3.10/dist-packages (from transformers<4.37.0,>=3.4.0->spacy-transformers->en-core-sci-scibert==0.5.3) (6.0.1)\n",
            "Requirement already satisfied: regex!=2019.12.17 in /usr/local/lib/python3.10/dist-packages (from transformers<4.37.0,>=3.4.0->spacy-transformers->en-core-sci-scibert==0.5.3) (2023.6.3)\n",
            "Requirement already satisfied: tokenizers<0.19,>=0.14 in /usr/local/lib/python3.10/dist-packages (from transformers<4.37.0,>=3.4.0->spacy-transformers->en-core-sci-scibert==0.5.3) (0.15.0)\n",
            "Requirement already satisfied: safetensors>=0.3.1 in /usr/local/lib/python3.10/dist-packages (from transformers<4.37.0,>=3.4.0->spacy-transformers->en-core-sci-scibert==0.5.3) (0.4.1)\n",
            "Requirement already satisfied: click<9.0.0,>=7.1.1 in /usr/local/lib/python3.10/dist-packages (from typer<0.10.0,>=0.3.0->spacy<3.7.0,>=3.6.1->en-core-sci-scibert==0.5.3) (8.1.7)\n",
            "Requirement already satisfied: MarkupSafe>=2.0 in /usr/local/lib/python3.10/dist-packages (from jinja2->spacy<3.7.0,>=3.6.1->en-core-sci-scibert==0.5.3) (2.1.3)\n",
            "Requirement already satisfied: mpmath>=0.19 in /usr/local/lib/python3.10/dist-packages (from sympy->torch>=1.8.0->spacy-transformers->en-core-sci-scibert==0.5.3) (1.3.0)\n",
            "Collecting scipy==1.10.1\n",
            "  Using cached scipy-1.10.1-cp310-cp310-manylinux_2_17_x86_64.manylinux2014_x86_64.whl (34.4 MB)\n",
            "Installing collected packages: scipy\n",
            "  Attempting uninstall: scipy\n",
            "    Found existing installation: scipy 1.10.1\n",
            "    Uninstalling scipy-1.10.1:\n",
            "      Successfully uninstalled scipy-1.10.1\n",
            "Successfully installed scipy-1.10.1\n",
            "Requirement already satisfied: ray[data,serve,train,tune] in /usr/local/lib/python3.10/dist-packages (2.9.0)\n",
            "\n",
            "Usage:   \n",
            "  pip3 <command> [options]\n",
            "\n",
            "no such option: --upgrade\n"
          ]
        }
      ],
      "source": [
        "!pip install spacy[cuda12x]\n",
        "!pip install kaleido\n",
        "!pip install python-multipart\n",
        "!pip install uvicorn\n",
        "!pip install fastapi\n",
        "!pip install wandb\n",
        "!pip install scispacy\n",
        "!pip install spacy-transformers\n",
        "!pip install https://s3-us-west-2.amazonaws.com/ai2-s2-scispacy/releases/v0.5.3/en_core_sci_lg-0.5.3.tar.gz\n",
        "!pip install https://s3-us-west-2.amazonaws.com/ai2-s2-scispacy/releases/v0.5.3/en_ner_bc5cdr_md-0.5.3.tar.gz\n",
        "!pip install https://s3-us-west-2.amazonaws.com/ai2-s2-scispacy/releases/v0.5.3/en_core_sci_scibert-0.5.3.tar.gz\n",
        "\n"
      ]
    },
    {
      "cell_type": "code",
      "execution_count": null,
      "id": "69eea1d8",
      "metadata": {},
      "outputs": [],
      "source": [
        "#need a existing kb to filter for entities. specify path to kb\n",
        "#increases runtime of next cell 6 dramatically\n",
        "flter_for_kb_entities=False\n",
        "if flter_for_kb_entities:\n",
        "    import spacy\n",
        "    from spacy.kb import InMemoryLookupKB\n",
        "    nlp = spacy.load(\"en_core_sci_lg\")\n",
        "    kb = InMemoryLookupKB(vocab=nlp.vocab, entity_vector_length=200)\n",
        "    kb.from_disk(knowledgebase_address)\n",
        "    enti=kb.get_entity_strings()"
      ]
    },
    {
      "cell_type": "code",
      "execution_count": 5,
      "id": "be77b8ee-d627-4d9d-a699-eb3561a59ede",
      "metadata": {
        "id": "be77b8ee-d627-4d9d-a699-eb3561a59ede"
      },
      "outputs": [],
      "source": [
        "def read_lines(file_path):\n",
        "    with open(file_path, 'r') as file:\n",
        "        for line in file:\n",
        "            yield line.strip()"
      ]
    },
    {
      "cell_type": "code",
      "execution_count": 6,
      "id": "8966eee8-8fa0-4ecc-ba08-d85044fdffcd",
      "metadata": {
        "id": "8966eee8-8fa0-4ecc-ba08-d85044fdffcd"
      },
      "outputs": [],
      "source": [
        "dataset = []\n",
        "file_path = medmentions_path + \"corpus_pubtator/corpus_pubtator.txt\"\n",
        "same_pmid=False\n",
        "abstract=False\n",
        "for line in read_lines(file_path):\n",
        "    if len(line.split(\"|\")) == 3 and same_pmid == False:\n",
        "        pmid, type, text = line.split(\"|\")\n",
        "        if type == 't':\n",
        "            same_pmid=True\n",
        "            abstract = False\n",
        "            mentions={}\n",
        "            entities=[]\n",
        "            cuis=[]\n",
        "    if len(line.split(\"|\")) == 3 and same_pmid == True:\n",
        "        abstract = line.split(\"|\")[2]\n",
        "        text_and_abstract=text + ' ' + abstract\n",
        "        abstract=True\n",
        "    if len(line.split('\\t')) == 6 and same_pmid == True :\n",
        "        pmid, start, end, mention, semId, cui = line.split('\\t')\n",
        "        if flter_for_kb_entities:\n",
        "            if cui not in enti:\n",
        "                continue\n",
        "        offset=(int(start),int(end))\n",
        "        links_dict={cui:1.0}\n",
        "        mentions[offset]=links_dict\n",
        "        entities.append((int(start),int(end),\"ORG\"))\n",
        "        cuis.append(cui)\n",
        "        abstract=False\n",
        "\n",
        "    if len(line.split('\\t')) == 1 and same_pmid == True and not abstract:\n",
        "        same_pmid = False\n",
        "        dataset.append((text_and_abstract,{\"links\":mentions,\"entities\":entities},pmid ))"
      ]
    },
    {
      "cell_type": "code",
      "execution_count": 8,
      "id": "7a19a6ff-cf69-4f6c-9534-164cfee898f6",
      "metadata": {
        "id": "7a19a6ff-cf69-4f6c-9534-164cfee898f6"
      },
      "outputs": [],
      "source": [
        "train_dataset = []\n",
        "test_dataset = []\n",
        "pmids_train=[]\n",
        "file_path_train = medmentions_path + \"corpus_pubtator_pmids_trng.txt\"\n",
        "for line in read_lines(file_path_train):\n",
        "    pmids_train.append(line)\n",
        "\n",
        "pmids_test=[]\n",
        "file_path_test = medmentions_path + \"corpus_pubtator_pmids_test.txt\"\n",
        "for line in read_lines(file_path_test):\n",
        "    pmids_test.append(line)\n",
        "\n",
        "for pmid_train in pmids_train:\n",
        "    train_dataset.extend(data for data in dataset if data[2]==pmid_train)\n",
        "\n",
        "for pmid_test in pmids_test:\n",
        "    test_dataset.extend(data for data in dataset if data[2]==pmid_test)"
      ]
    },
    {
      "cell_type": "code",
      "execution_count": 10,
      "id": "acc564bb-abc3-44a5-9b92-5e693966c3a3",
      "metadata": {
        "colab": {
          "base_uri": "https://localhost:8080/"
        },
        "id": "acc564bb-abc3-44a5-9b92-5e693966c3a3",
        "outputId": "f4391d51-a755-4bc2-a5ff-692053a4d1ee"
      },
      "outputs": [
        {
          "name": "stderr",
          "output_type": "stream",
          "text": [
            "/usr/local/lib/python3.10/dist-packages/spacy_transformers/layers/hf_shim.py:137: UserWarning: Error loading saved torch state_dict with strict=True, likely due to differences between 'transformers' versions. Attempting to load with strict=False as a fallback...\n",
            "\n",
            "If you see errors or degraded performance, download a newer compatible model or retrain your custom model with the current 'transformers' and 'spacy-transformers' versions. For more details and available updates, run: python -m spacy validate\n",
            "  warnings.warn(warn_msg)\n"
          ]
        }
      ],
      "source": [
        "import spacy\n",
        "if USE_SCIBERT == True:\n",
        "  nlp=spacy.load(\"en_core_sci_scibert\")\n",
        "else:\n",
        "  nlp=spacy.load(\"en_core_sci_lg\")"
      ]
    },
    {
      "cell_type": "code",
      "execution_count": 11,
      "id": "87e1d3fd-6296-426a-bcac-1a866661affb",
      "metadata": {
        "id": "87e1d3fd-6296-426a-bcac-1a866661affb"
      },
      "outputs": [],
      "source": [
        "from spacy.training import Example\n",
        "\n",
        "TRAIN_EXAMPLES = []\n",
        "if \"sentencizer\" not in nlp.pipe_names:\n",
        "    nlp.add_pipe(\"sentencizer\")\n",
        "sentencizer = nlp.get_pipe(\"sentencizer\")\n",
        "for text, annotation,_ in train_dataset:\n",
        "\n",
        "    try:\n",
        "        example = Example.from_dict(nlp.make_doc(text), annotation)\n",
        "        example.reference = sentencizer(example.reference)\n",
        "        TRAIN_EXAMPLES.append(example)\n",
        "    except:\n",
        "        continue"
      ]
    },
    {
      "cell_type": "code",
      "execution_count": 12,
      "id": "562c1c31-5cb4-48b3-833c-8a39cb4dd55e",
      "metadata": {
        "id": "562c1c31-5cb4-48b3-833c-8a39cb4dd55e"
      },
      "outputs": [],
      "source": [
        "from spacy.ml.models import load_kb\n",
        "\n",
        "entity_linker = nlp.add_pipe(\"entity_linker\", config={\"incl_prior\": False}, last=True)\n",
        "entity_linker.initialize(get_examples=lambda: TRAIN_EXAMPLES, kb_loader=load_kb(knowledgebase_address + '/mykb'))"
      ]
    },
    {
      "cell_type": "code",
      "execution_count": 13,
      "id": "5ff02cef-2d84-4aed-a160-8ffe7d369440",
      "metadata": {
        "id": "5ff02cef-2d84-4aed-a160-8ffe7d369440"
      },
      "outputs": [],
      "source": [
        "from thinc.api import decaying\n",
        "from thinc.api import Adam\n",
        "from thinc.api import RAdam\n",
        "\n",
        "learn_rates = decaying(0.005, 1e-4)\n",
        "optimizer = Adam(learn_rate=learn_rates)"
      ]
    },
    {
      "cell_type": "code",
      "execution_count": 23,
      "id": "2ade2a42-4e62-40de-bb23-411250b08f7f",
      "metadata": {
        "colab": {
          "base_uri": "https://localhost:8080/"
        },
        "id": "2ade2a42-4e62-40de-bb23-411250b08f7f",
        "outputId": "e2ba8918-5ed6-41f1-dcd0-9d2617b2d77d"
      },
      "outputs": [
        {
          "name": "stdout",
          "output_type": "stream",
          "text": [
            "<thinc.optimizers.Optimizer object at 0x7d59638b8a40>\n",
            "0\n",
            "0 Losses {'entity_linker': 4.110993485277548}\n",
            "0 Losses {'entity_linker': 4.110993485277548}\n"
          ]
        }
      ],
      "source": [
        "from spacy.util import minibatch, compounding\n",
        "import random\n",
        "\n",
        "learning_rates = []\n",
        "losses_list = []\n",
        "\n",
        "ITER = 1\n",
        "\n",
        "with nlp.select_pipes(enable=[\"entity_linker\"]):   # train only the entity_linker\n",
        "    #optimizer = nlp.resume_training()\n",
        "    print(optimizer)\n",
        "    # ITERATIONS NEED TO BE CHANGED BEFORE EXECUTION\n",
        "    for itn in range(ITER):\n",
        "        print(itn)\n",
        "        random.shuffle(TRAIN_EXAMPLES)\n",
        "        batches = minibatch(TRAIN_EXAMPLES, size=compounding(1.0, 32.0, 1.001))  # increasing batch sizes\n",
        "        losses = {}\n",
        "        for batch in batches:\n",
        "            nlp.update(\n",
        "                batch,\n",
        "                drop=0.2,      # prevent overfitting\n",
        "                losses=losses,\n",
        "                sgd=optimizer,\n",
        "            )\n",
        "\n",
        "            learning_rates.append(optimizer.learn_rate)\n",
        "            losses_list.append(losses[\"entity_linker\"])\n",
        "\n",
        "        if itn % 10 == 0:\n",
        "            print(itn, \"Losses\", losses)   # print the training loss\n",
        "print(itn, \"Losses\", losses)\n",
        "\n",
        "nlp.to_disk(model_address + \"my_nlp\")"
      ]
    },
    {
      "cell_type": "code",
      "execution_count": null,
      "id": "d36df442-9be7-44ac-a92c-5faf8ba3ff2e",
      "metadata": {
        "id": "d36df442-9be7-44ac-a92c-5faf8ba3ff2e"
      },
      "outputs": [],
      "source": [
        "nlp_addr = model_address + \"my_nlp_newADAM_{0}\".format(\"scibert\" if USE_SCIBERT == True else \"sci_lg\")\n",
        "nlp.to_disk(nlp_addr)"
      ]
    },
    {
      "cell_type": "markdown",
      "id": "cbbd7be4",
      "metadata": {},
      "source": [
        "Mention level"
      ]
    },
    {
      "cell_type": "code",
      "execution_count": 18,
      "id": "E7BtdTf9m-np",
      "metadata": {
        "id": "E7BtdTf9m-np"
      },
      "outputs": [],
      "source": [
        "detected=[]\n",
        "annot=[]\n",
        "for text, true_annot, _ in test_dataset:\n",
        "  doc = nlp(text)\n",
        "  entitiesListGOLD=set()\n",
        "  for link in true_annot[\"links\"].items():\n",
        "    start=link[0][0]\n",
        "    end=link[0][1]\n",
        "    key, _ = list(link[1].items())[0]\n",
        "    entitiesListGOLD.add((start,end,key))\n",
        "  entitiesList=set()\n",
        "  for ent in doc.ents:\n",
        "    entitiesList.add((ent.start_char,ent.end_char,ent.kb_id_))\n",
        "  detected.append(entitiesList)\n",
        "  annot.append(entitiesListGOLD)\n",
        "\n",
        "\n",
        "tp=0\n",
        "fn=0\n",
        "fp=0\n",
        "for i, enti in enumerate(detected):\n",
        "  tp=tp+len(enti.intersection(annot[i]))\n",
        "  fp=fp+len(enti - annot[i])\n",
        "  fn=fn+len(annot[i] - enti)\n",
        "\n",
        "recall=tp/(tp+fn)\n",
        "precision=tp/(tp+fp)\n",
        "f1=2*((precision*recall)/(precision+recall))\n",
        "print(recall)\n",
        "print(precision)\n",
        "print(f1)"
      ]
    },
    {
      "cell_type": "markdown",
      "id": "1e9272e1",
      "metadata": {},
      "source": [
        "Doc Level\n"
      ]
    },
    {
      "cell_type": "code",
      "execution_count": null,
      "id": "3623241f-bc61-4bbc-aae4-eb5898191d2a",
      "metadata": {
        "colab": {
          "background_save": true
        },
        "id": "3623241f-bc61-4bbc-aae4-eb5898191d2a",
        "outputId": "1b4a348c-a7f8-44a2-da53-6d6f1e90750d"
      },
      "outputs": [
        {
          "name": "stdout",
          "output_type": "stream",
          "text": [
            "18969\n",
            "0\n",
            "8418\n",
            "19917\n"
          ]
        }
      ],
      "source": [
        "detected=[]\n",
        "annot=[]\n",
        "for text, true_annot, _ in test_dataset:\n",
        "   # print(true_annot[\"links\"][(0,20)])\n",
        "    doc = nlp(text)  # to make this more efficient, you can use nlp.pipe() just once for all the texts\n",
        "    entitiesListGOLD=set()\n",
        "    for link in true_annot[\"links\"].items():\n",
        "      key, _ = list(link[1].items())[0]\n",
        "      entitiesListGOLD.add(key)\n",
        "    entitiesList=set()\n",
        "    for ent in doc.ents:\n",
        "       entitiesList.add(ent.kb_id_)\n",
        "    detected.append(entitiesList)\n",
        "    annot.append(entitiesListGOLD)\n",
        "\n",
        "tp=0\n",
        "fn=0\n",
        "fp=0\n",
        "for i, enti in enumerate(detected):\n",
        "  tp=tp+len(enti.intersection(annot[i]))\n",
        "  fp=fp+len(enti - annot[i])\n",
        "  fn=fn+len(annot[i] - enti)\n",
        "\n",
        "\n",
        "recall=tp/(tp+fn)\n",
        "precision=tp/(tp+fp)\n",
        "f1=2*((precision*recall)/(precision+recall))\n",
        "print(recall)\n",
        "print(precision)\n",
        "print(f1)\n"
      ]
    },
    {
      "cell_type": "code",
      "execution_count": 26,
      "id": "9a71d866-da75-43e8-9561-18e90b4d5c88",
      "metadata": {
        "colab": {
          "base_uri": "https://localhost:8080/",
          "height": 1000
        },
        "id": "9a71d866-da75-43e8-9561-18e90b4d5c88",
        "outputId": "94822c5e-f183-4e3f-a8ea-ad32f05d05e7"
      },
      "outputs": [
        {
          "data": {
            "image/png": "[encoded data removed]",
            "text/plain": [
              "<Figure size 640x480 with 1 Axes>"
            ]
          },
          "metadata": {},
          "output_type": "display_data"
        },
        {
          "data": {
            "image/png": "[encoded data removed]",
            "text/plain": [
              "<Figure size 640x480 with 1 Axes>"
            ]
          },
          "metadata": {},
          "output_type": "display_data"
        },
        {
          "data": {
            "image/png": "[encoded data removed]",
            "text/plain": [
              "<Figure size 640x480 with 1 Axes>"
            ]
          },
          "metadata": {},
          "output_type": "display_data"
        }
      ],
      "source": [
        "import matplotlib.pyplot as plt\n",
        "\n",
        "\n",
        "plt.plot(learning_rates)\n",
        "plt.xlabel(\"Steps\")\n",
        "plt.ylabel(\"Learning Rate\")\n",
        "plt.show()\n",
        "\n",
        "metrics = [\"Precision\", \"Recall\", \"F-Score\"]\n",
        "bar_colors = ['#1b9e77', '#a9f971', '#fdaa48','#6890F0','#A890F0']\n",
        "\n",
        "values = [precision, recall, f1]\n",
        "\n",
        "plt.bar(metrics, values, color=bar_colors)\n",
        "plt.show()\n",
        "\n",
        "plt.plot(losses_list)\n",
        "plt.xlabel(\"Steps\")\n",
        "plt.ylabel(\"Losses\")\n",
        "plt.show()\n",
        "\n",
        "# print(recall)\n",
        "# print(precision)\n",
        "# print(f1)\n"
      ]
    },
    {
      "cell_type": "code",
      "execution_count": 21,
      "id": "6251fec4-7994-4133-80fe-8f38f8ff24e9",
      "metadata": {
        "colab": {
          "base_uri": "https://localhost:8080/"
        },
        "id": "6251fec4-7994-4133-80fe-8f38f8ff24e9",
        "outputId": "27883c2a-bd1a-491c-f3e4-87ff64648bfd"
      },
      "outputs": [
        {
          "name": "stdout",
          "output_type": "stream",
          "text": [
            "\n",
            "Using the 'ent' visualizer\n",
            "Serving on http://0.0.0.0:5000 ...\n",
            "\n",
            "Shutting down server on port 5000.\n"
          ]
        }
      ],
      "source": [
        "from spacy import displacy\n",
        "doc = nlp(\"Generalized Epilepsy and Myoclonic Seizures in 22q11.2 Deletion Syndrome Prompted by the observations of juvenile myoclonic epilepsy (JME) in 22q11.2 deletion syndrome (22q11DS) and recurrent copy number variants in genetic generalized epilepsy (GGE), we searched for further evidence supporting a possible correlation of 22q11DS with GGE and with myoclonic seizures. Through routine diagnostics, we identified 3 novel individuals with the seemingly uncommon combination of 22q11DS and JME. We subsequently screened the literature for reports focussing on the epilepsy phenotype in 22q11DS. We additionally screened a database of 173 22q11DS patients and identified a fourth individual with JME as well as 2 additional cases with GGE. We describe 6 novel and 22 published cases with co-occurrence of 22q11DS and GGE. In many patients, GGE was associated with myoclonic seizures allowing for a diagnosis of JME in at least 6 individuals. Seventeen of the 173 22q11DS cases (10%) had a diagnosis of either focal or generalized epilepsy. In these cases, focal epilepsy could often be attributed to syndrome-associated hypocalcaemia, cerebral bleeds, or structural brain anomalies. However, the cause of GGE remained unclear. In this study, we describe and review 28 individuals with 22q11DS and GGE (especially JME), showing that both disorders frequently co-occur. Compared to the reported prevalence of 15-21%, in our case series only 10% of 22q11DS individuals were found to have epilepsy, often GGE. Since 22q11.2 does not contain convincing GGE candidate genes, we discuss the possibility of an aetiological correlation through a possibly disturbed interaction with the GABAB receptor.\")\n",
        "displacy.serve(doc,style=\"ent\")\n"
      ]
    },
    {
      "cell_type": "code",
      "execution_count": null,
      "id": "4oJxoAmOwCNN",
      "metadata": {
        "id": "4oJxoAmOwCNN"
      },
      "outputs": [],
      "source": []
    }
  ],
  "metadata": {
    "colab": {
      "include_colab_link": true,
      "provenance": []
    },
    "kernelspec": {
      "display_name": "env",
      "language": "python",
      "name": "env"
    },
    "language_info": {
      "codemirror_mode": {
        "name": "ipython",
        "version": 3
      },
      "file_extension": ".py",
      "mimetype": "text/x-python",
      "name": "python",
      "nbconvert_exporter": "python",
      "pygments_lexer": "ipython3",
      "version": "3.10.12"
    }
  },
  "nbformat": 4,
  "nbformat_minor": 5
}
